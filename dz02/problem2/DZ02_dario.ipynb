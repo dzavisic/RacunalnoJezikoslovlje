{
 "cells": [
  {
   "cell_type": "markdown",
   "metadata": {},
   "source": [
    "## Obrada knjige"
   ]
  },
  {
   "cell_type": "code",
   "execution_count": 1,
   "metadata": {},
   "outputs": [],
   "source": [
    "from nltk.util import pad_sequence\n",
    "from nltk.util import bigrams\n",
    "from nltk.util import ngrams\n",
    "from nltk.util import everygrams\n",
    "from nltk.lm.preprocessing import pad_both_ends\n",
    "from nltk.lm.preprocessing import flatten\n",
    "from nltk.lm.preprocessing import padded_everygram_pipeline\n",
    "import ebooklib\n",
    "import re\n",
    "import nltk\n",
    "from nltk.corpus import PlaintextCorpusReader\n",
    "from nltk import word_tokenize, sent_tokenize\n",
    "from nltk.corpus import stopwords\n",
    "from nltk.probability import FreqDist\n",
    "from bs4 import BeautifulSoup\n",
    "from ebooklib import epub\n",
    "from nltk.lm import MLE\n",
    "import os\n",
    "import requests\n",
    "import io\n",
    "\n",
    "def epub2thtml(epub_path):\n",
    "    book = epub.read_epub(epub_path)\n",
    "    chapters = []\n",
    "    for item in book.get_items():\n",
    "        if item.get_type() == ebooklib.ITEM_DOCUMENT:\n",
    "            chapters.append(item.get_content())\n",
    "    return chapters\n",
    "\n",
    "blacklist = [   '[document]',   'noscript', 'header',   'html', 'meta', 'head','input', 'script']\n",
    "def chap2text(chap):\n",
    "    output = ''\n",
    "    soup = BeautifulSoup(chap, 'html.parser')\n",
    "    text = soup.find_all(text=True)\n",
    "    for t in text:\n",
    "        if t.parent.name not in blacklist:\n",
    "            output += '{} '.format(t)\n",
    "    return output\n",
    "def thtml2ttext(thtml):\n",
    "    Output = []\n",
    "    for html in thtml:\n",
    "        text =  chap2text(html)\n",
    "        Output.append(text)\n",
    "    return Output\n",
    "def epub2text(epub_path):\n",
    "    chapters = epub2thtml(epub_path)\n",
    "    ttext = thtml2ttext(chapters)\n",
    "    return ttext\n",
    "\n",
    "def listToString(s):\n",
    "    str1 = \"\"\n",
    "    for elem in s:\n",
    "        str1 += elem\n",
    "    return str1\n",
    "\n",
    "out=epub2text('dostojevski_idiot.epub')\n",
    "\n",
    "outString = listToString(out)\n",
    "plainText = re.sub(r'[~%&\\<>?#]+(r|n|xa0)',\"\",outString)\n",
    "file1 = open(\"dostojevskiIdiot.txt\",\"w\")\n",
    "file1.write(str(plainText))\n",
    "file1.close()"
   ]
  },
  {
   "cell_type": "markdown",
   "metadata": {},
   "source": [
    "## 1. i 2. dio zadatka"
   ]
  },
  {
   "cell_type": "code",
   "execution_count": 2,
   "metadata": {},
   "outputs": [
    {
     "data": {
      "text/plain": [
       "('u',\n",
       " 'jednom',\n",
       " 'od',\n",
       " 'vagona',\n",
       " 'trećega',\n",
       " 'razreda',\n",
       " 'našla',\n",
       " 'se',\n",
       " 'o',\n",
       " 'svanuću',\n",
       " 'sučelice',\n",
       " 'jedan',\n",
       " 'drugomu',\n",
       " 'baš',\n",
       " 'do',\n",
       " 'prozora',\n",
       " 'dva',\n",
       " 'putnika',\n",
       " 'obojica',\n",
       " 'mladi',\n",
       " 'ljudi',\n",
       " 'obojica',\n",
       " 'gotovo',\n",
       " 'bez',\n",
       " 'prtljage',\n",
       " 'obojica',\n",
       " 'negizdelinski',\n",
       " 'odjevena',\n",
       " 'obojica',\n",
       " 's',\n",
       " 'prilično',\n",
       " 'zanimljivim',\n",
       " 'fizionomijama',\n",
       " 'a',\n",
       " 'obojica',\n",
       " 'su',\n",
       " 'naposljetku',\n",
       " 'poželjela',\n",
       " 'zapodjenuti',\n",
       " 'jedan',\n",
       " 's',\n",
       " 'drugim',\n",
       " 'razgovor')"
      ]
     },
     "execution_count": 2,
     "metadata": {},
     "output_type": "execute_result"
    }
   ],
   "source": [
    "\n",
    "corpus_root = './'\n",
    "newcorpus = PlaintextCorpusReader(corpus_root, \"dostojevskiIdiot.txt\")\n",
    "\n",
    "\n",
    "\n",
    "mycorpus = [word.lower() for word in newcorpus.words()]\n",
    "spl = 0.8*len(mycorpus)\n",
    "#train = mycorpus[:int(spl)]\n",
    "#test = mycorpus[int(spl):]\n",
    "\n",
    "brojac=0\n",
    "#moram tokenizirat\n",
    "if os.path.isfile('dostojevskiIdiot.txt'):\n",
    "    with io.open('dostojevskiIdiot.txt', encoding='utf8') as fin:\n",
    "        brojac = brojac + 1\n",
    "        if brojac <= spl:\n",
    "            text = fin.read()\n",
    "tokenized_text1 = [list(map(str.lower, word_tokenize(sent))) for sent in sent_tokenize(text)]\n",
    "tokenized_text=[]\n",
    "for x in tokenized_text1:\n",
    "    lista=[]\n",
    "    for y in x:\n",
    "        if(y.isalpha()):\n",
    "            lista.append(y)\n",
    "    tokenized_text.append(lista)\n",
    "n = 3\n",
    "train_data, padded_sents = padded_everygram_pipeline(n, tokenized_text)\n",
    "model = MLE(n)\n",
    "model.fit(train_data, padded_sents)\n",
    "\n",
    "#model.vocab.lookup('oko devet sati ...'.split())\n",
    "#model.vocab.lookup(tokenized_text[4]) # riječi iz treniranja\n",
    "#print(model.counts)\n",
    "#model.counts['dio']\n",
    "#model.score('dio')"
   ]
  },
  {
   "cell_type": "code",
   "execution_count": null,
   "metadata": {},
   "outputs": [],
   "source": [
    "\n",
    "num_test_grams = len(test_ngrams)\n",
    "import random\n",
    "r = random.sample(range(num_test_grams), 75)\n",
    "test_gram_sample = [test_ngrams[i] for i in r]"
   ]
  },
  {
   "cell_type": "code",
   "execution_count": 7,
   "metadata": {},
   "outputs": [],
   "source": [
    "from nltk.tokenize.treebank import TreebankWordDetokenizer\n",
    "detokenize = TreebankWordDetokenizer().detokenize\n",
    "\n",
    "def generate_sent(model,num_words,random_seed=42):\n",
    "    content = []\n",
    "    for token in model.generate(num_words,random_seed = random_seed):\n",
    "        if token == '<s>':\n",
    "            continue\n",
    "        if token == '</s>':\n",
    "            break\n",
    "        content.append(token)\n",
    "    return detokenize(content)"
   ]
  },
  {
   "cell_type": "code",
   "execution_count": 8,
   "metadata": {},
   "outputs": [
    {
     "data": {
      "text/plain": [
       "'grofica je krestovska također kažu otišla u inozemstvo'"
      ]
     },
     "execution_count": 8,
     "metadata": {},
     "output_type": "execute_result"
    }
   ],
   "source": [
    "generate_sent(model,20,random_seed=7)"
   ]
  },
  {
   "cell_type": "code",
   "execution_count": 9,
   "metadata": {},
   "outputs": [
    {
     "data": {
      "text/plain": [
       "'tako povjerljivo gledajući jevgenija pavloviča bili donekle su krivi general ivan fjodorovič jepančin stajao je kao zanesena ustala ali se nije provezla dalje od njih'"
      ]
     },
     "execution_count": 9,
     "metadata": {},
     "output_type": "execute_result"
    }
   ],
   "source": [
    "generate_sent(model,28,random_seed=0)"
   ]
  },
  {
   "cell_type": "code",
   "execution_count": 10,
   "metadata": {},
   "outputs": [
    {
     "data": {
      "text/plain": [
       "'reče on'"
      ]
     },
     "execution_count": 10,
     "metadata": {},
     "output_type": "execute_result"
    }
   ],
   "source": [
    "generate_sent(model,20,random_seed=1)"
   ]
  },
  {
   "cell_type": "code",
   "execution_count": 11,
   "metadata": {},
   "outputs": [
    {
     "name": "stdout",
     "output_type": "stream",
     "text": [
      "['i', 'dvadeset', 'minuta', 'govorio', 'je', 'jednom', 'u', 'životu', 'ukrao', 'štogod', '</s>', '</s>', '</s>', '</s>', '</s>', '</s>', '</s>', '</s>', '</s>', '</s>', '</s>', '</s>', '</s>', '</s>', '</s>', '</s>', '</s>', '</s>']\n"
     ]
    }
   ],
   "source": [
    "print(model.generate(28,text_seed=['oko','devet','sati']))"
   ]
  },
  {
   "cell_type": "markdown",
   "metadata": {},
   "source": [
    "## 3.dio zadatka"
   ]
  },
  {
   "cell_type": "code",
   "execution_count": 12,
   "metadata": {},
   "outputs": [],
   "source": [
    "import dill as pickle\n",
    "\n",
    "with open('ngram_modeldz2.pkl','wb') as fout:\n",
    "    pickle.dump(model,fout)"
   ]
  },
  {
   "cell_type": "code",
   "execution_count": 13,
   "metadata": {},
   "outputs": [],
   "source": [
    "with open('ngram_modeldz2.pkl','rb') as fin:\n",
    "    model_loaded = pickle.load(fin)"
   ]
  },
  {
   "cell_type": "code",
   "execution_count": 14,
   "metadata": {},
   "outputs": [
    {
     "data": {
      "text/plain": [
       "'opazio da je knez ruskim pismenima iz srednjega vijeka razvaline naše je društvo bilo zamišljeno sasvim jednostavno očekivali su jednu'"
      ]
     },
     "execution_count": 14,
     "metadata": {},
     "output_type": "execute_result"
    }
   ],
   "source": [
    "generate_sent(model_loaded,20,random_seed = 42)"
   ]
  },
  {
   "cell_type": "code",
   "execution_count": null,
   "metadata": {},
   "outputs": [],
   "source": []
  }
 ],
 "metadata": {
  "kernelspec": {
   "display_name": "Python 3",
   "language": "python",
   "name": "python3"
  },
  "language_info": {
   "codemirror_mode": {
    "name": "ipython",
    "version": 3
   },
   "file_extension": ".py",
   "mimetype": "text/x-python",
   "name": "python",
   "nbconvert_exporter": "python",
   "pygments_lexer": "ipython3",
   "version": "3.7.7"
  }
 },
 "nbformat": 4,
 "nbformat_minor": 4
}
