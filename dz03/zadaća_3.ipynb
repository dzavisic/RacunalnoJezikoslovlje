{
 "cells": [
  {
   "cell_type": "markdown",
   "metadata": {},
   "source": [
    "# ZADATAK 1"
   ]
  },
  {
   "cell_type": "markdown",
   "metadata": {},
   "source": [
    "## Incijalni importi"
   ]
  },
  {
   "cell_type": "code",
   "execution_count": 133,
   "metadata": {},
   "outputs": [],
   "source": [
    "import nltk\n",
    "from nltk.corpus.reader.conll import ConllCorpusReader # conll format korpusa"
   ]
  },
  {
   "cell_type": "markdown",
   "metadata": {},
   "source": [
    "## Corpus sethr"
   ]
  },
  {
   "cell_type": "code",
   "execution_count": 134,
   "metadata": {},
   "outputs": [],
   "source": [
    "sethr = ConllCorpusReader(\n",
    "    'corpora/sethr',\n",
    "    'set.hr.conll',\n",
    "    ('ignore','ignore','words','ignore','pos','ignore')\n",
    ")"
   ]
  },
  {
   "cell_type": "code",
   "execution_count": 146,
   "metadata": {},
   "outputs": [
    {
     "name": "stdout",
     "output_type": "stream",
     "text": [
      "[('nakon', 'Cs'), ('što', 'Cs'), ('biti', 'Var3s'), ('Hidroteknika', 'Npfsn'), ('privatiziran', 'Agpfsny'), ('2006.', 'Mdo'), ('godina', 'Ncfsg'), (',', 'Z'), ('\"', 'Z'), ('biti', 'Var1s'), ('dobiti', 'Vmp-sm'), ('nikakav', 'Pi-fsa'), ('naknada', 'Ncfsa'), (',', 'Z'), ('a', 'Cc'), ('zlo', 'Rgs'), ('biti', 'Var3s'), ('taj', 'Pd-nsn'), ('što', 'Pi3n-n'), ('tvrtka', 'Ncfsn'), ('mnogo', 'Rgc'), ('ne', 'Qz'), ('postojati', 'Vmr3s'), (',', 'Z'), ('sa', 'Si'), ('obzir', 'Ncmsi'), ('da', 'Cs'), ('biti', 'Var3s'), ('nov', 'Agpmsny'), ('vlasnik', 'Ncmsn'), ('promijeniti', 'Vmp-sm'), ('njezin', 'Ps3fsa'), ('namjena', 'Ncfsa'), ('\"', 'Z'), (',', 'Z'), ('reći', 'Vmp-sm'), ('biti', 'Var3s'), ('Berisha', 'Npmsn'), ('za', 'Sa'), ('SETimes', 'Npmsan'), ('.', 'Z')]\n"
     ]
    }
   ],
   "source": [
    "train_data = sethr.tagged_sents()[:500]\n",
    "print(train_data[10])\n",
    "#train_data2 = sethr.tagged_words(tagset='universal') pokusao sam convertirati pomocu dokumentacije, ali ne prolazi"
   ]
  },
  {
   "cell_type": "markdown",
   "metadata": {},
   "source": [
    "# Treniranje HMM-a"
   ]
  },
  {
   "cell_type": "markdown",
   "metadata": {},
   "source": [
    "### Incijalno kad sethr treniramo dobijemo ga u MULTEXT-East oznakama"
   ]
  },
  {
   "cell_type": "code",
   "execution_count": 171,
   "metadata": {},
   "outputs": [
    {
     "name": "stdout",
     "output_type": "stream",
     "text": [
      "<HiddenMarkovModelTagger 258 states and 1150 output symbols>\n"
     ]
    }
   ],
   "source": [
    "#importamo hmm\n",
    "from nltk.tag import hmm\n",
    "\n",
    "#uzmem da treniram na 40% korpusa\n",
    "p = int(len(train_data)*0.4)\n",
    "\n",
    "tagger = nltk.HiddenMarkovModelTagger.train(train_data[:p])\n",
    "\n",
    "print (tagger)"
   ]
  },
  {
   "cell_type": "markdown",
   "metadata": {},
   "source": [
    "### Pomoću universal POS oznaka"
   ]
  },
  {
   "cell_type": "code",
   "execution_count": 170,
   "metadata": {},
   "outputs": [
    {
     "name": "stdout",
     "output_type": "stream",
     "text": [
      "<HiddenMarkovModelTagger 10 states and 1233 output symbols>\n"
     ]
    }
   ],
   "source": [
    "from nltk.corpus.reader.mte import MTETagConverter\n",
    "\n",
    "sethrUPOS=[]\n",
    "nova=[]\n",
    "for (word,tag) in sethr.tagged_words():\n",
    "    if(word=='.'):\n",
    "        nova.append((word,MTETagConverter.msd_to_universal(tag)))\n",
    "        sethrUPOS.append(nova)\n",
    "        nova=[]\n",
    "    else:\n",
    "        nova.append((word,MTETagConverter.msd_to_universal(tag)))\n",
    "\n",
    "tagger2 = nltk.HiddenMarkovModelTagger.train(sethrUPOS[:p])\n",
    "print(tagger2)"
   ]
  },
  {
   "cell_type": "markdown",
   "metadata": {},
   "source": [
    "## Evaluiranje HMM-a"
   ]
  },
  {
   "cell_type": "code",
   "execution_count": 172,
   "metadata": {},
   "outputs": [
    {
     "data": {
      "text/plain": [
       "0.44895672874947484"
      ]
     },
     "execution_count": 172,
     "metadata": {},
     "output_type": "execute_result"
    }
   ],
   "source": [
    "tagger.evaluate(sethr.tagged_sents()[p:500])"
   ]
  },
  {
   "cell_type": "code",
   "execution_count": 175,
   "metadata": {},
   "outputs": [
    {
     "data": {
      "text/plain": [
       "0.0"
      ]
     },
     "execution_count": 175,
     "metadata": {},
     "output_type": "execute_result"
    }
   ],
   "source": [
    "tagger2.evaluate(sethr.tagged_sents()[p:500])"
   ]
  },
  {
   "cell_type": "markdown",
   "metadata": {},
   "source": [
    "# ZADATAK 2"
   ]
  },
  {
   "cell_type": "code",
   "execution_count": null,
   "metadata": {},
   "outputs": [],
   "source": []
  }
 ],
 "metadata": {
  "kernelspec": {
   "display_name": "Python 3",
   "language": "python",
   "name": "python3"
  },
  "language_info": {
   "codemirror_mode": {
    "name": "ipython",
    "version": 3
   },
   "file_extension": ".py",
   "mimetype": "text/x-python",
   "name": "python",
   "nbconvert_exporter": "python",
   "pygments_lexer": "ipython3",
   "version": "3.7.7"
  }
 },
 "nbformat": 4,
 "nbformat_minor": 4
}
